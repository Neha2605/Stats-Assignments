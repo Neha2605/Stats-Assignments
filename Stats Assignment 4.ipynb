{
 "cells": [
  {
   "cell_type": "markdown",
   "id": "c2485840",
   "metadata": {},
   "source": [
    "# 1. Is it possible that an event is independent of itself? If so, when?\n",
    "\n",
    "\n"
   ]
  },
  {
   "cell_type": "raw",
   "id": "af6ae27f",
   "metadata": {},
   "source": [
    "Ans :\n",
    "    Yes, It is possible for an event to be independent of itself.\n",
    "    An Event is independent of themselves if they have probability either 0 or 1.\n",
    "\n",
    "Reason:\n",
    "    If P(A)=0 then P(A ∩ B)= 0 and if P(A)= 1 then P(A∩B)= P(B). In either case we have P(A∩B)= P(A)P(B). The independence of A with itself gives P(A) = (P(A))^2 and hence either P(A)= 0 or P(A)= 1 ."
   ]
  },
  {
   "cell_type": "raw",
   "id": "ac1a8709",
   "metadata": {},
   "source": []
  },
  {
   "cell_type": "markdown",
   "id": "9f00e6b6",
   "metadata": {},
   "source": [
    "# 2. Is it always true that if A and B are independent events, then Ac and Bc are independent events? Show that it is, or give a counterexample."
   ]
  },
  {
   "cell_type": "raw",
   "id": "f6f24d3c",
   "metadata": {},
   "source": [
    "Ans:\n",
    "    Yes, if A and B are independent events then complement of them i.e. Ac and Bc are also independent.\n",
    "    \n",
    "Reason:\n",
    "    P(Ac∩Bc)=1−P(A∪B)\n",
    "        =1−P(A)−P(B)+P(A∩B)\n",
    "        =1−P(A)−P(B)+P(A)P(B)\n",
    "        =(1−P(A))(1−P(B))\n",
    "        =P(Ac)P(Bc)."
   ]
  },
  {
   "cell_type": "code",
   "execution_count": null,
   "id": "403ceff4",
   "metadata": {},
   "outputs": [],
   "source": []
  }
 ],
 "metadata": {
  "kernelspec": {
   "display_name": "Python 3 (ipykernel)",
   "language": "python",
   "name": "python3"
  },
  "language_info": {
   "codemirror_mode": {
    "name": "ipython",
    "version": 3
   },
   "file_extension": ".py",
   "mimetype": "text/x-python",
   "name": "python",
   "nbconvert_exporter": "python",
   "pygments_lexer": "ipython3",
   "version": "3.9.7"
  }
 },
 "nbformat": 4,
 "nbformat_minor": 5
}
